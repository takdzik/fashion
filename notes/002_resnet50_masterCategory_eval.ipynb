{
 "cells": [
  {
   "cell_type": "code",
   "execution_count": null,
   "metadata": {},
   "outputs": [],
   "source": [
    "import json\n",
    "from pathlib import Path\n",
    "import tensorflow as tf\n",
    "import pandas as pd\n",
    "import matplotlib.pyplot as plt\n",
    "import numpy as np\n",
    "\n",
    "# Wczytywanie konfiguracji\n",
    "config_path = Path(\"../config.json\")\n",
    "with open(config_path, \"r\") as config_file:\n",
    "    config = json.load(config_file)\n",
    "\n",
    "# Ścieżki z konfiguracji\n",
    "model_file = Path(config[\"resnet18_masterCategory_model\"])\n",
    "test_file = Path(config[\"test_file\"])\n",
    "dataset_path = Path(config[\"dataset_path\"])\n",
    "\n",
    "print(f\"Ścieżki załadowane:\\nModel: {model_file}\\nTest File: {test_file}\\nDataset Path: {dataset_path}\")\n"
   ]
  },
  {
   "cell_type": "code",
   "execution_count": null,
   "metadata": {},
   "outputs": [],
   "source": [
    "# Wczytanie testowych danych\n",
    "df_test = pd.read_csv(test_file)\n",
    "\n",
    "# Tworzenie pełnych ścieżek do obrazów\n",
    "df_test[\"image_path\"] = df_test[\"id\"].apply(lambda x: dataset_path / \"images\" / f\"{x}.jpg\")\n",
    "\n",
    "# Przygotowanie etykiet\n",
    "categories = df_test[\"masterCategory\"].unique()\n",
    "category_to_index = {category: idx for idx, category in enumerate(categories)}\n",
    "index_to_category = {idx: category for category, idx in category_to_index.items()}\n",
    "df_test[\"category_index\"] = df_test[\"masterCategory\"].map(category_to_index)\n",
    "\n",
    "print(\"Pierwsze wiersze danych testowych:\")\n",
    "print(df_test.head())\n"
   ]
  },
  {
   "cell_type": "code",
   "execution_count": null,
   "metadata": {},
   "outputs": [],
   "source": [
    "# Ustawienia dla generatora danych\n",
    "image_size = (224, 224)  # Rozmiar obrazu zgodny z modelem\n",
    "batch_size = 32\n",
    "\n",
    "# Funkcja pomocnicza do wczytywania i przetwarzania obrazów\n",
    "def preprocess_image(image_path, label):\n",
    "    image = tf.io.read_file(image_path)\n",
    "    image = tf.image.decode_jpeg(image, channels=3)\n",
    "    image = tf.image.resize(image, image_size)\n",
    "    image = image / 255.0  # Normalizacja\n",
    "    return image, label\n",
    "\n",
    "# Konwersja do TensorFlow Dataset\n",
    "test_ds = tf.data.Dataset.from_tensor_slices(\n",
    "    (df_test[\"image_path\"].astype(str), df_test[\"category_index\"])\n",
    ")\n",
    "test_ds = test_ds.map(preprocess_image).batch(batch_size).prefetch(tf.data.AUTOTUNE)\n"
   ]
  },
  {
   "cell_type": "code",
   "execution_count": null,
   "metadata": {},
   "outputs": [],
   "source": [
    "# Wczytanie modelu\n",
    "resnet18_masterCategory_model = tf.keras.models.load_model(model_file)\n",
    "resnet18_masterCategory_model.summary()\n"
   ]
  },
  {
   "cell_type": "code",
   "execution_count": null,
   "metadata": {},
   "outputs": [],
   "source": [
    "# Ewaluacja modelu na zbiorze testowym\n",
    "loss, accuracy = resnet18_masterCategory_model.evaluate(test_ds, verbose=1)\n",
    "print(f\"Loss: {loss:.4f}, Accuracy: {accuracy:.4f}\")\n"
   ]
  },
  {
   "cell_type": "code",
   "execution_count": null,
   "metadata": {},
   "outputs": [],
   "source": [
    "# Predykcja na danych testowych\n",
    "predictions = []\n",
    "true_labels = []\n",
    "for images, labels in test_ds:\n",
    "    preds = resnet18_masterCategory_model.predict(images)\n",
    "    predictions.extend(np.argmax(preds, axis=1))\n",
    "    true_labels.extend(labels.numpy())\n",
    "\n",
    "# Konwersja indeksów na kategorie\n",
    "predicted_categories = [index_to_category[idx] for idx in predictions]\n",
    "true_categories = [index_to_category[idx] for idx in true_labels]\n",
    "\n",
    "# Dodanie predykcji do DataFrame\n",
    "df_test[\"predicted_category\"] = predicted_categories\n",
    "\n",
    "# Pierwsze wiersze z wynikami\n",
    "print(df_test[[\"masterCategory\", \"predicted_category\"]].head())\n"
   ]
  },
  {
   "cell_type": "code",
   "execution_count": null,
   "metadata": {},
   "outputs": [],
   "source": [
    "# Macierz konfuzji\n",
    "from sklearn.metrics import confusion_matrix, ConfusionMatrixDisplay\n",
    "\n",
    "cm = confusion_matrix(true_categories, predicted_categories, labels=categories)\n",
    "\n",
    "# Wyświetlenie macierzy\n",
    "plt.figure(figsize=(10, 8))\n",
    "disp = ConfusionMatrixDisplay(confusion_matrix=cm, display_labels=categories)\n",
    "disp.plot(cmap=plt.cm.Blues, xticks_rotation=\"vertical\")\n",
    "plt.title(\"Macierz konfuzji\")\n",
    "plt.show()\n"
   ]
  },
  {
   "cell_type": "code",
   "execution_count": null,
   "metadata": {},
   "outputs": [],
   "source": [
    "# Błędne klasyfikacje\n",
    "df_test[\"is_correct\"] = df_test[\"masterCategory\"] == df_test[\"predicted_category\"]\n",
    "incorrect = df_test[~df_test[\"is_correct\"]]\n",
    "\n",
    "# Wyświetlenie kilku przykładów błędnych klasyfikacji\n",
    "print(\"Przykłady błędnych klasyfikacji:\")\n",
    "print(incorrect[[\"image_path\", \"masterCategory\", \"predicted_category\"]].head())\n",
    "\n",
    "# Wizualizacja kilku obrazów błędnie sklasyfikowanych\n",
    "plt.figure(figsize=(15, 10))\n",
    "for i, row in enumerate(incorrect.sample(6).itertuples()):\n",
    "    img = tf.image.decode_jpeg(tf.io.read_file(row.image_path))\n",
    "    img = tf.image.resize(img, image_size)\n",
    "    \n",
    "    plt.subplot(2, 3, i + 1)\n",
    "    plt.imshow(img / 255.0)\n",
    "    plt.title(f\"True: {row.masterCategory}\\nPred: {row.predicted_category}\")\n",
    "    plt.axis(\"off\")\n",
    "plt.tight_layout()\n",
    "plt.show()\n"
   ]
  },
  {
   "cell_type": "code",
   "execution_count": null,
   "metadata": {},
   "outputs": [],
   "source": [
    "# Obliczenie metryk\n",
    "from sklearn.metrics import classification_report\n",
    "\n",
    "report = classification_report(true_categories, predicted_categories, target_names=categories)\n",
    "print(\"Raport klasyfikacji:\")\n",
    "print(report)\n"
   ]
  }
 ],
 "metadata": {
  "kernelspec": {
   "display_name": ".venv",
   "language": "python",
   "name": "python3"
  },
  "language_info": {
   "name": "python",
   "version": "3.12.4"
  },
  "orig_nbformat": 4
 },
 "nbformat": 4,
 "nbformat_minor": 2
}
